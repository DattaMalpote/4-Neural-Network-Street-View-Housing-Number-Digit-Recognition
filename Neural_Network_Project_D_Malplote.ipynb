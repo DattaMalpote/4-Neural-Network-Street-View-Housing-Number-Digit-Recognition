{
  "nbformat": 4,
  "nbformat_minor": 0,
  "metadata": {
    "colab": {
      "name": "Neural_Network_Project_D_Malplote.ipynb",
      "provenance": [],
      "toc_visible": true
    },
    "kernelspec": {
      "name": "python3",
      "display_name": "Python 3"
    },
    "accelerator": "GPU"
  },
  "cells": [
    {
      "cell_type": "markdown",
      "metadata": {
        "id": "_B_60-E4p_1J"
      },
      "source": [
        "#**Project Description**\n",
        "Street View Housing Number Digit Recognition"
      ]
    },
    {
      "cell_type": "markdown",
      "metadata": {
        "id": "AtfocY0OrAMz"
      },
      "source": [
        "# **Context**\n",
        "Recognizing multi-digit numbers in photographs captured at street level is an important component of modern-day map making. A classic example of a corpus of such street-level photographs is Google’s Street View imagery comprised of hundreds of millions of geo-located 360-degree panoramic images. The ability to automatically transcribe an address number from a geo-located patch of pixels and associate the transcribed\n",
        "number with a known street address helps pinpoint, with a high degree of accuracy, the location of the building it represents. More broadly, recognizing numbers in photographs is a problem of interest to the optical\n",
        "character recognition community. While OCR on constrained domains like document processing is well studied, arbitrary multi-character text recognition in photographs is still highly challenging. This difficulty arises due to the wide variability in the visual appearance of text in the wild on account of a large range of fonts, colours, styles, orientations, and character arrangements. The recognition problem is further complicated by environmental factors such as lighting, shadows, specularities, and occlusions as well as by image acquisition factors such as resolution, motion, and focus blurs. In this project, we will use the dataset with images centred around a single digit (many of the images do contain some distractors at the sides). Although we are taking a sample of the data which is simpler, it is more complex than MNIST because of the distractors."
      ]
    },
    {
      "cell_type": "markdown",
      "metadata": {
        "id": "o9LhkWR9t-RX"
      },
      "source": [
        "# **Data Description**\n",
        "SVHN is a real-world image dataset for developing machine learning and object recognition algorithms with the minimal requirement on data formatting but comes from a significantly harder, unsolved, real-world problem (recognizing digits and numbers in natural scene images). "
      ]
    },
    {
      "cell_type": "markdown",
      "metadata": {
        "id": "zLX91hdyud3G"
      },
      "source": [
        "# **Data Source and Data Format**\n",
        "SVHN is obtained from house numbers in Google Street View images.\n",
        "format:h5 format"
      ]
    },
    {
      "cell_type": "code",
      "metadata": {
        "id": "Ughs42d6IifE",
        "outputId": "987faaa8-8534-4a93-a325-6fb541ffd122",
        "colab": {
          "base_uri": "https://localhost:8080/",
          "height": 54
        }
      },
      "source": [
        "from google.colab import drive\n",
        "drive.mount('/content/drive')"
      ],
      "execution_count": 113,
      "outputs": [
        {
          "output_type": "stream",
          "text": [
            "Drive already mounted at /content/drive; to attempt to forcibly remount, call drive.mount(\"/content/drive\", force_remount=True).\n"
          ],
          "name": "stdout"
        }
      ]
    },
    {
      "cell_type": "code",
      "metadata": {
        "id": "vZUNPy2APcC2",
        "outputId": "482dc878-0d0d-4a6e-bd9d-d09d90e70346",
        "colab": {
          "base_uri": "https://localhost:8080/",
          "height": 35
        }
      },
      "source": [
        "%tensorflow_version 2.x\n",
        "import tensorflow as tf\n",
        "tf.__version__"
      ],
      "execution_count": 114,
      "outputs": [
        {
          "output_type": "execute_result",
          "data": {
            "application/vnd.google.colaboratory.intrinsic+json": {
              "type": "string"
            },
            "text/plain": [
              "'2.3.0'"
            ]
          },
          "metadata": {
            "tags": []
          },
          "execution_count": 114
        }
      ]
    },
    {
      "cell_type": "code",
      "metadata": {
        "id": "xFDON0LtPYua"
      },
      "source": [
        "import os\n",
        "import h5py"
      ],
      "execution_count": 115,
      "outputs": []
    },
    {
      "cell_type": "code",
      "metadata": {
        "id": "lrndMlNsNwut",
        "outputId": "1a0c3f2e-5789-4645-911b-d5c24f771502",
        "colab": {
          "base_uri": "https://localhost:8080/",
          "height": 35
        }
      },
      "source": [
        "os.getcwd()"
      ],
      "execution_count": 116,
      "outputs": [
        {
          "output_type": "execute_result",
          "data": {
            "application/vnd.google.colaboratory.intrinsic+json": {
              "type": "string"
            },
            "text/plain": [
              "'/content/drive/My Drive/AIML'"
            ]
          },
          "metadata": {
            "tags": []
          },
          "execution_count": 116
        }
      ]
    },
    {
      "cell_type": "code",
      "metadata": {
        "id": "aee9NCU6nh_G"
      },
      "source": [
        "os.chdir('/content/drive/My Drive/AIML')"
      ],
      "execution_count": 117,
      "outputs": []
    },
    {
      "cell_type": "code",
      "metadata": {
        "id": "jHosZhaGom4W",
        "outputId": "f65e694c-2f33-4ba1-c1b5-51df425c7788",
        "colab": {
          "base_uri": "https://localhost:8080/",
          "height": 35
        }
      },
      "source": [
        "os.getcwd()"
      ],
      "execution_count": 118,
      "outputs": [
        {
          "output_type": "execute_result",
          "data": {
            "application/vnd.google.colaboratory.intrinsic+json": {
              "type": "string"
            },
            "text/plain": [
              "'/content/drive/My Drive/AIML'"
            ]
          },
          "metadata": {
            "tags": []
          },
          "execution_count": 118
        }
      ]
    },
    {
      "cell_type": "markdown",
      "metadata": {
        "id": "DPDUEsP_t20J"
      },
      "source": [
        "## 1.Read the data from the h5py file and understand the train/test splits"
      ]
    },
    {
      "cell_type": "code",
      "metadata": {
        "id": "ZV0eqd_BqOlW",
        "outputId": "a65e3ded-a5cf-4c2c-ae0d-cdab5f98f002",
        "colab": {
          "base_uri": "https://localhost:8080/",
          "height": 34
        }
      },
      "source": [
        "df=h5py.File('SVHN_single_grey1.h5','r')\n",
        "df.keys()"
      ],
      "execution_count": 119,
      "outputs": [
        {
          "output_type": "execute_result",
          "data": {
            "text/plain": [
              "<KeysViewHDF5 ['X_test', 'X_train', 'X_val', 'y_test', 'y_train', 'y_val']>"
            ]
          },
          "metadata": {
            "tags": []
          },
          "execution_count": 119
        }
      ]
    },
    {
      "cell_type": "code",
      "metadata": {
        "id": "gY4KJK2vrnrd"
      },
      "source": [
        "X_Train=df['X_train'][:]\n",
        "Y_Train=df['y_train'][:]\n",
        "X_Test=df['X_test'][:]\n",
        "Y_Test=df['y_test'][:]"
      ],
      "execution_count": 120,
      "outputs": []
    },
    {
      "cell_type": "code",
      "metadata": {
        "id": "7YR7dtBHxQiZ",
        "outputId": "3f7039f0-f34b-4a87-e2f6-7dc43d8d6174",
        "colab": {
          "base_uri": "https://localhost:8080/",
          "height": 85
        }
      },
      "source": [
        "print(X_Train.shape)\n",
        "print(Y_Train.shape)\n",
        "print(Y_Test.shape)\n",
        "print(X_Test.shape)"
      ],
      "execution_count": 121,
      "outputs": [
        {
          "output_type": "stream",
          "text": [
            "(42000, 32, 32)\n",
            "(42000,)\n",
            "(18000,)\n",
            "(18000, 32, 32)\n"
          ],
          "name": "stdout"
        }
      ]
    },
    {
      "cell_type": "code",
      "metadata": {
        "id": "cLnktEtRx9Pk",
        "outputId": "d04d992f-1be3-43c9-82c2-7c3c8e72f647",
        "colab": {
          "base_uri": "https://localhost:8080/",
          "height": 34
        }
      },
      "source": [
        "Y_Test.view()"
      ],
      "execution_count": 122,
      "outputs": [
        {
          "output_type": "execute_result",
          "data": {
            "text/plain": [
              "array([1, 7, 2, ..., 7, 9, 2], dtype=uint8)"
            ]
          },
          "metadata": {
            "tags": []
          },
          "execution_count": 122
        }
      ]
    },
    {
      "cell_type": "code",
      "metadata": {
        "id": "Wig3q3Z-xYQT",
        "outputId": "0245fe77-e278-4335-92d4-4e76cd680292",
        "colab": {
          "base_uri": "https://localhost:8080/",
          "height": 334
        }
      },
      "source": [
        "import matplotlib.pyplot as plt\n",
        "%matplotlib inline\n",
        "print(\"Label: {}\".format(Y_Train[200]))\n",
        "print(\"Label: {}\".format(Y_Train[100]))\n",
        "print(\"Label: {}\".format(Y_Train[1200]))\n",
        "plt.imshow(X_Train[200], cmap='gray')\n",
        "plt.imshow(X_Train[100], cmap='gray')\n",
        "plt.imshow(X_Train[1200], cmap='gray')"
      ],
      "execution_count": 123,
      "outputs": [
        {
          "output_type": "stream",
          "text": [
            "Label: 4\n",
            "Label: 0\n",
            "Label: 6\n"
          ],
          "name": "stdout"
        },
        {
          "output_type": "execute_result",
          "data": {
            "text/plain": [
              "<matplotlib.image.AxesImage at 0x7fa433b59978>"
            ]
          },
          "metadata": {
            "tags": []
          },
          "execution_count": 123
        },
        {
          "output_type": "display_data",
          "data": {
            "image/png": "[encoded data removed]",
            "text/plain": [
              "<Figure size 432x288 with 1 Axes>"
            ]
          },
          "metadata": {
            "tags": [],
            "needs_background": "light"
          }
        }
      ]
    },
    {
      "cell_type": "markdown",
      "metadata": {
        "id": "OoP2Ockmvl3H"
      },
      "source": [
        "## 2.Reshape and normalize the train and test features"
      ]
    },
    {
      "cell_type": "markdown",
      "metadata": {
        "id": "sc-I5U1n1UXJ"
      },
      "source": [
        "##a).Reshape"
      ]
    },
    {
      "cell_type": "code",
      "metadata": {
        "id": "poBb7wfvxEV6",
        "outputId": "344a4c90-d995-40d6-cab9-713344224c7f",
        "colab": {
          "base_uri": "https://localhost:8080/",
          "height": 51
        }
      },
      "source": [
        "X_Train=X_Train.reshape(42000,1024)\n",
        "print(X_Train.shape)\n",
        "X_Test=X_Test.reshape(18000,1024)\n",
        "print(X_Test.shape)\n"
      ],
      "execution_count": 124,
      "outputs": [
        {
          "output_type": "stream",
          "text": [
            "(42000, 1024)\n",
            "(18000, 1024)\n"
          ],
          "name": "stdout"
        }
      ]
    },
    {
      "cell_type": "markdown",
      "metadata": {
        "id": "HDABpGBI1fwI"
      },
      "source": [
        "##b).Normalize"
      ]
    },
    {
      "cell_type": "code",
      "metadata": {
        "id": "L4uUprAgxFVb",
        "outputId": "96fdc4d0-c5f8-46eb-9b8a-c3ead647858d",
        "colab": {
          "base_uri": "https://localhost:8080/",
          "height": 85
        }
      },
      "source": [
        "print(X_Train.max())\n",
        "print(X_Train.min())\n",
        "\n",
        "X_Train = X_Train / 255.0\n",
        "X_Test = X_Test / 255.0\n",
        "\n",
        "print(X_Train.max())\n",
        "print(X_Test.min())"
      ],
      "execution_count": 125,
      "outputs": [
        {
          "output_type": "stream",
          "text": [
            "254.9745\n",
            "0.0\n",
            "0.9999\n",
            "0.0\n"
          ],
          "name": "stdout"
        }
      ]
    },
    {
      "cell_type": "markdown",
      "metadata": {
        "id": "H8PW0WbD2bnm"
      },
      "source": [
        "#3.One hot encode the labels for train and test data"
      ]
    },
    {
      "cell_type": "code",
      "metadata": {
        "id": "GOQQ7EMTyAad"
      },
      "source": [
        "Y_Train=tf.keras.utils.to_categorical(Y_Train,num_classes=10)\n",
        "Y_Test=tf.keras.utils.to_categorical(Y_Test,num_classes=10)"
      ],
      "execution_count": 126,
      "outputs": []
    },
    {
      "cell_type": "code",
      "metadata": {
        "id": "MM1oryxIy-Eb",
        "outputId": "136c9b0b-96ed-4d25-ca47-38e0750a24c3",
        "colab": {
          "base_uri": "https://localhost:8080/",
          "height": 51
        }
      },
      "source": [
        "print(Y_Train.shape)\n",
        "print(Y_Test.shape)"
      ],
      "execution_count": 127,
      "outputs": [
        {
          "output_type": "stream",
          "text": [
            "(42000, 10)\n",
            "(18000, 10)\n"
          ],
          "name": "stdout"
        }
      ]
    },
    {
      "cell_type": "code",
      "metadata": {
        "id": "tICJnckSy-xC",
        "outputId": "75c3451b-969a-4d00-c95b-5cc75c02b951",
        "colab": {
          "base_uri": "https://localhost:8080/",
          "height": 102
        }
      },
      "source": [
        "Y_Train[0:5]"
      ],
      "execution_count": 128,
      "outputs": [
        {
          "output_type": "execute_result",
          "data": {
            "text/plain": [
              "array([[0., 0., 1., 0., 0., 0., 0., 0., 0., 0.],\n",
              "       [0., 0., 0., 0., 0., 0., 1., 0., 0., 0.],\n",
              "       [0., 0., 0., 0., 0., 0., 0., 1., 0., 0.],\n",
              "       [0., 0., 0., 0., 1., 0., 0., 0., 0., 0.],\n",
              "       [0., 0., 0., 0., 1., 0., 0., 0., 0., 0.]], dtype=float32)"
            ]
          },
          "metadata": {
            "tags": []
          },
          "execution_count": 128
        }
      ]
    },
    {
      "cell_type": "code",
      "metadata": {
        "id": "kR1kmR992xXc",
        "outputId": "9ada93b4-c482-43ec-839b-dfa17cb2c643",
        "colab": {
          "base_uri": "https://localhost:8080/",
          "height": 102
        }
      },
      "source": [
        "Y_Test[0:5]"
      ],
      "execution_count": 129,
      "outputs": [
        {
          "output_type": "execute_result",
          "data": {
            "text/plain": [
              "array([[0., 1., 0., 0., 0., 0., 0., 0., 0., 0.],\n",
              "       [0., 0., 0., 0., 0., 0., 0., 1., 0., 0.],\n",
              "       [0., 0., 1., 0., 0., 0., 0., 0., 0., 0.],\n",
              "       [0., 0., 0., 0., 0., 0., 0., 0., 0., 1.],\n",
              "       [1., 0., 0., 0., 0., 0., 0., 0., 0., 0.]], dtype=float32)"
            ]
          },
          "metadata": {
            "tags": []
          },
          "execution_count": 129
        }
      ]
    },
    {
      "cell_type": "code",
      "metadata": {
        "id": "4m9aniGy5rCr",
        "outputId": "8189c137-aedb-4667-aa2c-3d4b8893381c",
        "colab": {
          "base_uri": "https://localhost:8080/",
          "height": 248
        }
      },
      "source": [
        "import numpy as np\n",
        "\n",
        "# visualizing the first 10 images in the dataset and their labels\n",
        "%matplotlib inline\n",
        "import matplotlib.pyplot as plt\n",
        "plt.figure(figsize=(10, 1))\n",
        "for i in range(10):\n",
        "    plt.subplot(1, 10, i+1)\n",
        "    plt.imshow(X_Train[i].reshape(32,32), cmap=\"gray\")\n",
        "    plt.axis('off')\n",
        "    print('label for each of the below image: %s' % (np.argmax(Y_Train[0:10][i])))\n",
        "plt.show()"
      ],
      "execution_count": 130,
      "outputs": [
        {
          "output_type": "stream",
          "text": [
            "label for each of the below image: 2\n",
            "label for each of the below image: 6\n",
            "label for each of the below image: 7\n",
            "label for each of the below image: 4\n",
            "label for each of the below image: 4\n",
            "label for each of the below image: 0\n",
            "label for each of the below image: 3\n",
            "label for each of the below image: 0\n",
            "label for each of the below image: 7\n",
            "label for each of the below image: 3\n"
          ],
          "name": "stdout"
        },
        {
          "output_type": "display_data",
          "data": {
            "image/png": "[encoded data removed]",
            "text/plain": [
              "<Figure size 720x72 with 10 Axes>"
            ]
          },
          "metadata": {
            "tags": [],
            "needs_background": "light"
          }
        }
      ]
    },
    {
      "cell_type": "markdown",
      "metadata": {
        "id": "fuwVy6qB2_a8"
      },
      "source": [
        "#4.Define the model architecture using TensorFlow with a flatten layer followed by dense layers with activation as ReLu and softmax"
      ]
    },
    {
      "cell_type": "markdown",
      "metadata": {
        "id": "GTKnXnuc6DOh"
      },
      "source": [
        "#As we have already used reshape operation,so we will not going to use flatten layer"
      ]
    },
    {
      "cell_type": "code",
      "metadata": {
        "id": "2OrDUGIa5SeK"
      },
      "source": [
        "from tensorflow.keras.models import Sequential\n",
        "from tensorflow.keras.layers import Dense\n",
        "from tensorflow.keras import regularizers, optimizers"
      ],
      "execution_count": 131,
      "outputs": []
    },
    {
      "cell_type": "code",
      "metadata": {
        "id": "Q5sm8EhCD1vm"
      },
      "source": [
        "model = Sequential()\n",
        "model.add(Dense(256, input_shape=(1024,), activation='relu'))\n",
        "model.add(Dense(256, activation='relu'))\n",
        "model.add(Dense(10, activation='softmax'))"
      ],
      "execution_count": 132,
      "outputs": []
    },
    {
      "cell_type": "markdown",
      "metadata": {
        "id": "fEG-Qt9toje-"
      },
      "source": [
        "#5.Compile the model with loss as categorical cross-entropy and adam optimizers. Use accuracy as the metric for evaluation"
      ]
    },
    {
      "cell_type": "code",
      "metadata": {
        "id": "EjUEQnnP4oH2"
      },
      "source": [
        "adam = optimizers.Adam(lr=0.01, decay=1e-6)"
      ],
      "execution_count": 133,
      "outputs": []
    },
    {
      "cell_type": "code",
      "metadata": {
        "id": "fJrahNPQIH3D"
      },
      "source": [
        "model.compile(optimizer='adam', loss='categorical_crossentropy', metrics=['accuracy'])"
      ],
      "execution_count": 134,
      "outputs": []
    },
    {
      "cell_type": "markdown",
      "metadata": {
        "id": "WQnBYL08o54g"
      },
      "source": [
        "#6.Fit and evaluate the model. Print the loss and accuracy for the test data"
      ]
    },
    {
      "cell_type": "markdown",
      "metadata": {
        "id": "5e7iqUCoxuLW"
      },
      "source": [
        "##a)Fit model"
      ]
    },
    {
      "cell_type": "code",
      "metadata": {
        "id": "wuIwO_mOpoZY",
        "outputId": "2446cf54-cb90-4b1a-eb63-08224d1b1f2b",
        "colab": {
          "base_uri": "https://localhost:8080/",
          "height": 1000
        }
      },
      "source": [
        "model.fit(X_Train, Y_Train, validation_data=(X_Test, Y_Test), epochs=100,batch_size=100)"
      ],
      "execution_count": 135,
      "outputs": [
        {
          "output_type": "stream",
          "text": [
            "Epoch 1/100\n",
            "420/420 [==============================] - 1s 4ms/step - loss: 2.1459 - accuracy: 0.2025 - val_loss: 1.7229 - val_accuracy: 0.4151\n",
            "Epoch 2/100\n",
            "420/420 [==============================] - 1s 3ms/step - loss: 1.5409 - accuracy: 0.4814 - val_loss: 1.3697 - val_accuracy: 0.5517\n",
            "Epoch 3/100\n",
            "420/420 [==============================] - 1s 3ms/step - loss: 1.3314 - accuracy: 0.5670 - val_loss: 1.2473 - val_accuracy: 0.6022\n",
            "Epoch 4/100\n",
            "420/420 [==============================] - 1s 3ms/step - loss: 1.2354 - accuracy: 0.6078 - val_loss: 1.2215 - val_accuracy: 0.6142\n",
            "Epoch 5/100\n",
            "420/420 [==============================] - 1s 3ms/step - loss: 1.1708 - accuracy: 0.6305 - val_loss: 1.1308 - val_accuracy: 0.6471\n",
            "Epoch 6/100\n",
            "420/420 [==============================] - 1s 3ms/step - loss: 1.1219 - accuracy: 0.6459 - val_loss: 1.1554 - val_accuracy: 0.6279\n",
            "Epoch 7/100\n",
            "420/420 [==============================] - 1s 3ms/step - loss: 1.0790 - accuracy: 0.6603 - val_loss: 1.0978 - val_accuracy: 0.6559\n",
            "Epoch 8/100\n",
            "420/420 [==============================] - 1s 3ms/step - loss: 1.0412 - accuracy: 0.6745 - val_loss: 1.0743 - val_accuracy: 0.6677\n",
            "Epoch 9/100\n",
            "420/420 [==============================] - 1s 4ms/step - loss: 1.0163 - accuracy: 0.6841 - val_loss: 1.0084 - val_accuracy: 0.6881\n",
            "Epoch 10/100\n",
            "420/420 [==============================] - 1s 3ms/step - loss: 0.9906 - accuracy: 0.6926 - val_loss: 1.0119 - val_accuracy: 0.6877\n",
            "Epoch 11/100\n",
            "420/420 [==============================] - 1s 3ms/step - loss: 0.9701 - accuracy: 0.6981 - val_loss: 0.9601 - val_accuracy: 0.7077\n",
            "Epoch 12/100\n",
            "420/420 [==============================] - 1s 3ms/step - loss: 0.9452 - accuracy: 0.7090 - val_loss: 0.9383 - val_accuracy: 0.7124\n",
            "Epoch 13/100\n",
            "420/420 [==============================] - 1s 3ms/step - loss: 0.9248 - accuracy: 0.7164 - val_loss: 0.9432 - val_accuracy: 0.7102\n",
            "Epoch 14/100\n",
            "420/420 [==============================] - 1s 3ms/step - loss: 0.9065 - accuracy: 0.7208 - val_loss: 0.9211 - val_accuracy: 0.7182\n",
            "Epoch 15/100\n",
            "420/420 [==============================] - 1s 3ms/step - loss: 0.8896 - accuracy: 0.7259 - val_loss: 0.9295 - val_accuracy: 0.7162\n",
            "Epoch 16/100\n",
            "420/420 [==============================] - 1s 3ms/step - loss: 0.8782 - accuracy: 0.7315 - val_loss: 0.8959 - val_accuracy: 0.7253\n",
            "Epoch 17/100\n",
            "420/420 [==============================] - 1s 3ms/step - loss: 0.8658 - accuracy: 0.7351 - val_loss: 0.8833 - val_accuracy: 0.7339\n",
            "Epoch 18/100\n",
            "420/420 [==============================] - 1s 3ms/step - loss: 0.8528 - accuracy: 0.7382 - val_loss: 0.8862 - val_accuracy: 0.7286\n",
            "Epoch 19/100\n",
            "420/420 [==============================] - 1s 3ms/step - loss: 0.8495 - accuracy: 0.7395 - val_loss: 0.9266 - val_accuracy: 0.7171\n",
            "Epoch 20/100\n",
            "420/420 [==============================] - 1s 3ms/step - loss: 0.8360 - accuracy: 0.7437 - val_loss: 0.8397 - val_accuracy: 0.7471\n",
            "Epoch 21/100\n",
            "420/420 [==============================] - 1s 3ms/step - loss: 0.8215 - accuracy: 0.7477 - val_loss: 0.8965 - val_accuracy: 0.7249\n",
            "Epoch 22/100\n",
            "420/420 [==============================] - 1s 3ms/step - loss: 0.8181 - accuracy: 0.7496 - val_loss: 0.8772 - val_accuracy: 0.7349\n",
            "Epoch 23/100\n",
            "420/420 [==============================] - 1s 3ms/step - loss: 0.8001 - accuracy: 0.7553 - val_loss: 0.8255 - val_accuracy: 0.7511\n",
            "Epoch 24/100\n",
            "420/420 [==============================] - 1s 3ms/step - loss: 0.7886 - accuracy: 0.7600 - val_loss: 0.8110 - val_accuracy: 0.7557\n",
            "Epoch 25/100\n",
            "420/420 [==============================] - 1s 3ms/step - loss: 0.7876 - accuracy: 0.7577 - val_loss: 0.8638 - val_accuracy: 0.7387\n",
            "Epoch 26/100\n",
            "420/420 [==============================] - 1s 3ms/step - loss: 0.7715 - accuracy: 0.7645 - val_loss: 0.8136 - val_accuracy: 0.7576\n",
            "Epoch 27/100\n",
            "420/420 [==============================] - 1s 3ms/step - loss: 0.7581 - accuracy: 0.7669 - val_loss: 0.8153 - val_accuracy: 0.7549\n",
            "Epoch 28/100\n",
            "420/420 [==============================] - 1s 3ms/step - loss: 0.7549 - accuracy: 0.7690 - val_loss: 0.7900 - val_accuracy: 0.7643\n",
            "Epoch 29/100\n",
            "420/420 [==============================] - 1s 3ms/step - loss: 0.7448 - accuracy: 0.7723 - val_loss: 0.7957 - val_accuracy: 0.7615\n",
            "Epoch 30/100\n",
            "420/420 [==============================] - 1s 3ms/step - loss: 0.7368 - accuracy: 0.7755 - val_loss: 0.7912 - val_accuracy: 0.7632\n",
            "Epoch 31/100\n",
            "420/420 [==============================] - 1s 3ms/step - loss: 0.7270 - accuracy: 0.7803 - val_loss: 0.7907 - val_accuracy: 0.7663\n",
            "Epoch 32/100\n",
            "420/420 [==============================] - 1s 3ms/step - loss: 0.7273 - accuracy: 0.7785 - val_loss: 0.7583 - val_accuracy: 0.7772\n",
            "Epoch 33/100\n",
            "420/420 [==============================] - 1s 3ms/step - loss: 0.7184 - accuracy: 0.7818 - val_loss: 0.8002 - val_accuracy: 0.7602\n",
            "Epoch 34/100\n",
            "420/420 [==============================] - 1s 3ms/step - loss: 0.7071 - accuracy: 0.7835 - val_loss: 0.7511 - val_accuracy: 0.7764\n",
            "Epoch 35/100\n",
            "420/420 [==============================] - 1s 3ms/step - loss: 0.7088 - accuracy: 0.7840 - val_loss: 0.7981 - val_accuracy: 0.7619\n",
            "Epoch 36/100\n",
            "420/420 [==============================] - 1s 3ms/step - loss: 0.6980 - accuracy: 0.7905 - val_loss: 0.7765 - val_accuracy: 0.7677\n",
            "Epoch 37/100\n",
            "420/420 [==============================] - 1s 3ms/step - loss: 0.6900 - accuracy: 0.7927 - val_loss: 0.7588 - val_accuracy: 0.7769\n",
            "Epoch 38/100\n",
            "420/420 [==============================] - 1s 3ms/step - loss: 0.6895 - accuracy: 0.7901 - val_loss: 0.7594 - val_accuracy: 0.7773\n",
            "Epoch 39/100\n",
            "420/420 [==============================] - 1s 3ms/step - loss: 0.6767 - accuracy: 0.7969 - val_loss: 0.7467 - val_accuracy: 0.7822\n",
            "Epoch 40/100\n",
            "420/420 [==============================] - 1s 3ms/step - loss: 0.6829 - accuracy: 0.7924 - val_loss: 0.7607 - val_accuracy: 0.7752\n",
            "Epoch 41/100\n",
            "420/420 [==============================] - 1s 3ms/step - loss: 0.6802 - accuracy: 0.7947 - val_loss: 0.7692 - val_accuracy: 0.7750\n",
            "Epoch 42/100\n",
            "420/420 [==============================] - 1s 3ms/step - loss: 0.6698 - accuracy: 0.7980 - val_loss: 0.7642 - val_accuracy: 0.7723\n",
            "Epoch 43/100\n",
            "420/420 [==============================] - 1s 3ms/step - loss: 0.6717 - accuracy: 0.7956 - val_loss: 0.7990 - val_accuracy: 0.7592\n",
            "Epoch 44/100\n",
            "420/420 [==============================] - 1s 3ms/step - loss: 0.6575 - accuracy: 0.8001 - val_loss: 0.7286 - val_accuracy: 0.7890\n",
            "Epoch 45/100\n",
            "420/420 [==============================] - 1s 3ms/step - loss: 0.6620 - accuracy: 0.7985 - val_loss: 0.7365 - val_accuracy: 0.7861\n",
            "Epoch 46/100\n",
            "420/420 [==============================] - 1s 3ms/step - loss: 0.6606 - accuracy: 0.7989 - val_loss: 0.7076 - val_accuracy: 0.7974\n",
            "Epoch 47/100\n",
            "420/420 [==============================] - 1s 3ms/step - loss: 0.6579 - accuracy: 0.8001 - val_loss: 0.7469 - val_accuracy: 0.7827\n",
            "Epoch 48/100\n",
            "420/420 [==============================] - 1s 3ms/step - loss: 0.6528 - accuracy: 0.8007 - val_loss: 0.7338 - val_accuracy: 0.7879\n",
            "Epoch 49/100\n",
            "420/420 [==============================] - 1s 3ms/step - loss: 0.6501 - accuracy: 0.8030 - val_loss: 0.7389 - val_accuracy: 0.7838\n",
            "Epoch 50/100\n",
            "420/420 [==============================] - 1s 3ms/step - loss: 0.6449 - accuracy: 0.8043 - val_loss: 0.7248 - val_accuracy: 0.7896\n",
            "Epoch 51/100\n",
            "420/420 [==============================] - 1s 3ms/step - loss: 0.6420 - accuracy: 0.8040 - val_loss: 0.7372 - val_accuracy: 0.7848\n",
            "Epoch 52/100\n",
            "420/420 [==============================] - 1s 3ms/step - loss: 0.6399 - accuracy: 0.8049 - val_loss: 0.7264 - val_accuracy: 0.7899\n",
            "Epoch 53/100\n",
            "420/420 [==============================] - 1s 3ms/step - loss: 0.6429 - accuracy: 0.8019 - val_loss: 0.7418 - val_accuracy: 0.7861\n",
            "Epoch 54/100\n",
            "420/420 [==============================] - 1s 3ms/step - loss: 0.6385 - accuracy: 0.8059 - val_loss: 0.7272 - val_accuracy: 0.7867\n",
            "Epoch 55/100\n",
            "420/420 [==============================] - 2s 4ms/step - loss: 0.6293 - accuracy: 0.8076 - val_loss: 0.7216 - val_accuracy: 0.7901\n",
            "Epoch 56/100\n",
            "420/420 [==============================] - 2s 4ms/step - loss: 0.6302 - accuracy: 0.8081 - val_loss: 0.7339 - val_accuracy: 0.7865\n",
            "Epoch 57/100\n",
            "420/420 [==============================] - 2s 4ms/step - loss: 0.6308 - accuracy: 0.8071 - val_loss: 0.7298 - val_accuracy: 0.7908\n",
            "Epoch 58/100\n",
            "420/420 [==============================] - 1s 3ms/step - loss: 0.6248 - accuracy: 0.8088 - val_loss: 0.7598 - val_accuracy: 0.7786\n",
            "Epoch 59/100\n",
            "420/420 [==============================] - 1s 3ms/step - loss: 0.6206 - accuracy: 0.8100 - val_loss: 0.7255 - val_accuracy: 0.7881\n",
            "Epoch 60/100\n",
            "420/420 [==============================] - 1s 3ms/step - loss: 0.6281 - accuracy: 0.8091 - val_loss: 0.7151 - val_accuracy: 0.7949\n",
            "Epoch 61/100\n",
            "420/420 [==============================] - 1s 3ms/step - loss: 0.6179 - accuracy: 0.8102 - val_loss: 0.7439 - val_accuracy: 0.7858\n",
            "Epoch 62/100\n",
            "420/420 [==============================] - 1s 3ms/step - loss: 0.6274 - accuracy: 0.8079 - val_loss: 0.7110 - val_accuracy: 0.7949\n",
            "Epoch 63/100\n",
            "420/420 [==============================] - 1s 3ms/step - loss: 0.6166 - accuracy: 0.8112 - val_loss: 0.7178 - val_accuracy: 0.7926\n",
            "Epoch 64/100\n",
            "420/420 [==============================] - 1s 3ms/step - loss: 0.6191 - accuracy: 0.8111 - val_loss: 0.7213 - val_accuracy: 0.7931\n",
            "Epoch 65/100\n",
            "420/420 [==============================] - 1s 3ms/step - loss: 0.6170 - accuracy: 0.8108 - val_loss: 0.7375 - val_accuracy: 0.7834\n",
            "Epoch 66/100\n",
            "420/420 [==============================] - 1s 3ms/step - loss: 0.6119 - accuracy: 0.8120 - val_loss: 0.7080 - val_accuracy: 0.7955\n",
            "Epoch 67/100\n",
            "420/420 [==============================] - 1s 3ms/step - loss: 0.6103 - accuracy: 0.8137 - val_loss: 0.7354 - val_accuracy: 0.7861\n",
            "Epoch 68/100\n",
            "420/420 [==============================] - 1s 3ms/step - loss: 0.6059 - accuracy: 0.8142 - val_loss: 0.7169 - val_accuracy: 0.7939\n",
            "Epoch 69/100\n",
            "420/420 [==============================] - 1s 3ms/step - loss: 0.6085 - accuracy: 0.8125 - val_loss: 0.7468 - val_accuracy: 0.7842\n",
            "Epoch 70/100\n",
            "420/420 [==============================] - 1s 3ms/step - loss: 0.6006 - accuracy: 0.8154 - val_loss: 0.7517 - val_accuracy: 0.7785\n",
            "Epoch 71/100\n",
            "420/420 [==============================] - 1s 3ms/step - loss: 0.6038 - accuracy: 0.8136 - val_loss: 0.7404 - val_accuracy: 0.7884\n",
            "Epoch 72/100\n",
            "420/420 [==============================] - 1s 3ms/step - loss: 0.6013 - accuracy: 0.8155 - val_loss: 0.7548 - val_accuracy: 0.7784\n",
            "Epoch 73/100\n",
            "420/420 [==============================] - 1s 3ms/step - loss: 0.5984 - accuracy: 0.8170 - val_loss: 0.7358 - val_accuracy: 0.7869\n",
            "Epoch 74/100\n",
            "420/420 [==============================] - 1s 3ms/step - loss: 0.5961 - accuracy: 0.8166 - val_loss: 0.7531 - val_accuracy: 0.7812\n",
            "Epoch 75/100\n",
            "420/420 [==============================] - 1s 3ms/step - loss: 0.6006 - accuracy: 0.8149 - val_loss: 0.7447 - val_accuracy: 0.7851\n",
            "Epoch 76/100\n",
            "420/420 [==============================] - 1s 3ms/step - loss: 0.5998 - accuracy: 0.8140 - val_loss: 0.7412 - val_accuracy: 0.7868\n",
            "Epoch 77/100\n",
            "420/420 [==============================] - 1s 3ms/step - loss: 0.5983 - accuracy: 0.8167 - val_loss: 0.7347 - val_accuracy: 0.7893\n",
            "Epoch 78/100\n",
            "420/420 [==============================] - 1s 3ms/step - loss: 0.5889 - accuracy: 0.8183 - val_loss: 0.7144 - val_accuracy: 0.7937\n",
            "Epoch 79/100\n",
            "420/420 [==============================] - 1s 3ms/step - loss: 0.5989 - accuracy: 0.8146 - val_loss: 0.7213 - val_accuracy: 0.7936\n",
            "Epoch 80/100\n",
            "420/420 [==============================] - 1s 3ms/step - loss: 0.5905 - accuracy: 0.8196 - val_loss: 0.7153 - val_accuracy: 0.7952\n",
            "Epoch 81/100\n",
            "420/420 [==============================] - 1s 3ms/step - loss: 0.5945 - accuracy: 0.8168 - val_loss: 0.7281 - val_accuracy: 0.7889\n",
            "Epoch 82/100\n",
            "420/420 [==============================] - 1s 3ms/step - loss: 0.5909 - accuracy: 0.8185 - val_loss: 0.7204 - val_accuracy: 0.7914\n",
            "Epoch 83/100\n",
            "420/420 [==============================] - 1s 3ms/step - loss: 0.5830 - accuracy: 0.8210 - val_loss: 0.7080 - val_accuracy: 0.7951\n",
            "Epoch 84/100\n",
            "420/420 [==============================] - 1s 3ms/step - loss: 0.5939 - accuracy: 0.8167 - val_loss: 0.7363 - val_accuracy: 0.7880\n",
            "Epoch 85/100\n",
            "420/420 [==============================] - 1s 3ms/step - loss: 0.5823 - accuracy: 0.8206 - val_loss: 0.7160 - val_accuracy: 0.7931\n",
            "Epoch 86/100\n",
            "420/420 [==============================] - 1s 3ms/step - loss: 0.5852 - accuracy: 0.8183 - val_loss: 0.7234 - val_accuracy: 0.7933\n",
            "Epoch 87/100\n",
            "420/420 [==============================] - 1s 3ms/step - loss: 0.5873 - accuracy: 0.8183 - val_loss: 0.7447 - val_accuracy: 0.7848\n",
            "Epoch 88/100\n",
            "420/420 [==============================] - 1s 3ms/step - loss: 0.5877 - accuracy: 0.8185 - val_loss: 0.7176 - val_accuracy: 0.7931\n",
            "Epoch 89/100\n",
            "420/420 [==============================] - 1s 3ms/step - loss: 0.5787 - accuracy: 0.8207 - val_loss: 0.7213 - val_accuracy: 0.7927\n",
            "Epoch 90/100\n",
            "420/420 [==============================] - 1s 3ms/step - loss: 0.5819 - accuracy: 0.8196 - val_loss: 0.7643 - val_accuracy: 0.7784\n",
            "Epoch 91/100\n",
            "420/420 [==============================] - 1s 3ms/step - loss: 0.5781 - accuracy: 0.8226 - val_loss: 0.7325 - val_accuracy: 0.7916\n",
            "Epoch 92/100\n",
            "420/420 [==============================] - 1s 3ms/step - loss: 0.5747 - accuracy: 0.8198 - val_loss: 0.7282 - val_accuracy: 0.7901\n",
            "Epoch 93/100\n",
            "420/420 [==============================] - 1s 3ms/step - loss: 0.5755 - accuracy: 0.8237 - val_loss: 0.7211 - val_accuracy: 0.7946\n",
            "Epoch 94/100\n",
            "420/420 [==============================] - 1s 3ms/step - loss: 0.5786 - accuracy: 0.8224 - val_loss: 0.7183 - val_accuracy: 0.7967\n",
            "Epoch 95/100\n",
            "420/420 [==============================] - 1s 3ms/step - loss: 0.5758 - accuracy: 0.8222 - val_loss: 0.7544 - val_accuracy: 0.7811\n",
            "Epoch 96/100\n",
            "420/420 [==============================] - 1s 3ms/step - loss: 0.5747 - accuracy: 0.8231 - val_loss: 0.7135 - val_accuracy: 0.7963\n",
            "Epoch 97/100\n",
            "420/420 [==============================] - 1s 3ms/step - loss: 0.5733 - accuracy: 0.8230 - val_loss: 0.7414 - val_accuracy: 0.7881\n",
            "Epoch 98/100\n",
            "420/420 [==============================] - 1s 3ms/step - loss: 0.5685 - accuracy: 0.8237 - val_loss: 0.7341 - val_accuracy: 0.7907\n",
            "Epoch 99/100\n",
            "420/420 [==============================] - 1s 3ms/step - loss: 0.5727 - accuracy: 0.8229 - val_loss: 0.7412 - val_accuracy: 0.7876\n",
            "Epoch 100/100\n",
            "420/420 [==============================] - 1s 3ms/step - loss: 0.5660 - accuracy: 0.8236 - val_loss: 0.8187 - val_accuracy: 0.7642\n"
          ],
          "name": "stdout"
        },
        {
          "output_type": "execute_result",
          "data": {
            "text/plain": [
              "<tensorflow.python.keras.callbacks.History at 0x7fa43561b6a0>"
            ]
          },
          "metadata": {
            "tags": []
          },
          "execution_count": 135
        }
      ]
    },
    {
      "cell_type": "markdown",
      "metadata": {
        "id": "SiJq9-4Bv7Rx"
      },
      "source": [
        "##b)Evaluate the model"
      ]
    },
    {
      "cell_type": "code",
      "metadata": {
        "id": "uDBqD0RrqAxK",
        "outputId": "11b989f5-b121-42e7-adce-dca7cd026d5e",
        "colab": {
          "base_uri": "https://localhost:8080/",
          "height": 51
        }
      },
      "source": [
        "model.evaluate(X_Test, Y_Test)"
      ],
      "execution_count": 136,
      "outputs": [
        {
          "output_type": "stream",
          "text": [
            "563/563 [==============================] - 1s 2ms/step - loss: 0.8188 - accuracy: 0.7642\n"
          ],
          "name": "stdout"
        },
        {
          "output_type": "execute_result",
          "data": {
            "text/plain": [
              "[0.8187500834465027, 0.7641666531562805]"
            ]
          },
          "metadata": {
            "tags": []
          },
          "execution_count": 136
        }
      ]
    },
    {
      "cell_type": "code",
      "metadata": {
        "id": "jXOntzbPvpPp"
      },
      "source": [
        " "
      ],
      "execution_count": 136,
      "outputs": []
    },
    {
      "cell_type": "code",
      "metadata": {
        "id": "ZzsG2-bwX1Hu"
      },
      "source": [
        ""
      ],
      "execution_count": 136,
      "outputs": []
    }
  ]
}